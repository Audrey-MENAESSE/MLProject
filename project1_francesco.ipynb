{
 "cells": [
  {
   "cell_type": "code",
   "execution_count": 1,
   "metadata": {},
   "outputs": [],
   "source": [
    "# Useful starting lines\n",
    "%matplotlib inline\n",
    "import numpy as np\n",
    "import matplotlib.pyplot as plt\n",
    "%load_ext autoreload\n",
    "%autoreload 2"
   ]
  },
  {
   "cell_type": "code",
   "execution_count": 2,
   "metadata": {},
   "outputs": [],
   "source": [
    "from implementations import*"
   ]
  },
  {
   "cell_type": "markdown",
   "metadata": {},
   "source": [
    "## Load the training data into feature matrix, class labels, and event ids:"
   ]
  },
  {
   "cell_type": "code",
   "execution_count": 3,
   "metadata": {},
   "outputs": [
    {
     "ename": "ValueError",
     "evalue": "too many values to unpack (expected 3)",
     "output_type": "error",
     "traceback": [
      "\u001b[1;31m---------------------------------------------------------------------------\u001b[0m",
      "\u001b[1;31mValueError\u001b[0m                                Traceback (most recent call last)",
      "\u001b[1;32m<ipython-input-3-7e6d664a512c>\u001b[0m in \u001b[0;36m<module>\u001b[1;34m\u001b[0m\n\u001b[0;32m      1\u001b[0m \u001b[1;32mfrom\u001b[0m \u001b[0mproj1_helpers\u001b[0m \u001b[1;32mimport\u001b[0m \u001b[1;33m*\u001b[0m\u001b[1;33m\u001b[0m\u001b[1;33m\u001b[0m\u001b[0m\n\u001b[0;32m      2\u001b[0m \u001b[0mDATA_TRAIN_PATH\u001b[0m \u001b[1;33m=\u001b[0m \u001b[1;34m'C:/Users/franc/OneDrive/Università/EPFL/MA3/ML_course/projects/project1/data/train.csv/train.csv'\u001b[0m\u001b[1;31m# TODO: download train data and supply path here\u001b[0m\u001b[1;33m\u001b[0m\u001b[1;33m\u001b[0m\u001b[0m\n\u001b[1;32m----> 3\u001b[1;33m \u001b[0my\u001b[0m\u001b[1;33m,\u001b[0m \u001b[0mtX\u001b[0m\u001b[1;33m,\u001b[0m \u001b[0mids\u001b[0m \u001b[1;33m=\u001b[0m \u001b[0mload_csv_data\u001b[0m\u001b[1;33m(\u001b[0m\u001b[0mDATA_TRAIN_PATH\u001b[0m\u001b[1;33m)\u001b[0m\u001b[1;33m\u001b[0m\u001b[1;33m\u001b[0m\u001b[0m\n\u001b[0m",
      "\u001b[1;31mValueError\u001b[0m: too many values to unpack (expected 3)"
     ]
    }
   ],
   "source": [
    "from proj1_helpers import *\n",
    "DATA_TRAIN_PATH = 'C:/Users/franc/OneDrive/Università/EPFL/MA3/ML_course/projects/project1/data/train.csv/train.csv'# TODO: download train data and supply path here \n",
    "y, tX, ids = load_csv_data(DATA_TRAIN_PATH)"
   ]
  },
  {
   "cell_type": "code",
   "execution_count": null,
   "metadata": {},
   "outputs": [],
   "source": [
    "n_feats = tX.shape[1]\n",
    "n_data = tX.shape[0]"
   ]
  },
  {
   "cell_type": "code",
   "execution_count": null,
   "metadata": {},
   "outputs": [],
   "source": [
    "fig = plt.figure(figsize=(15, 35))\n",
    "for i in range(30):\n",
    "    ax = fig.add_subplot(10, 3, i+1)\n",
    "    plt.plot(range(n_data), tX[:, i], 'o', markersize = 0.25)\n",
    "    plt.title(\"Column {c}\".format(c = i+1))"
   ]
  },
  {
   "cell_type": "code",
   "execution_count": null,
   "metadata": {},
   "outputs": [],
   "source": [
    "fig = plt.figure(figsize = (20, 15))\n",
    "ax = plt.boxplot(tX)\n",
    "plt.xlabel(\"Column number\")"
   ]
  },
  {
   "cell_type": "markdown",
   "metadata": {},
   "source": [
    "## Preprocess the data\n",
    "I will try to apply the least squares (using normal equaitions) to the data. I could use a mini batch.\n",
    "But first I need to remove the outlier (visible in columns 4, 9 and 20), standardize the data and change the categorical column.\n"
   ]
  },
  {
   "cell_type": "code",
   "execution_count": null,
   "metadata": {},
   "outputs": [],
   "source": [
    "for i in [3, 8, 19]:\n",
    "    o = np.where(tX[:, 3]>2000)\n",
    "    print('In the {l} column, the {k} element is outlier'.format(l=i, k=o))"
   ]
  },
  {
   "cell_type": "code",
   "execution_count": null,
   "metadata": {},
   "outputs": [],
   "source": [
    "# Remove the outlier\n",
    "tX = np.delete(tX, 7343, axis=0)\n",
    "y = np.delete(y, 7343, axis=0)\n",
    "tX.shape\n",
    "y.shape"
   ]
  },
  {
   "cell_type": "code",
   "execution_count": null,
   "metadata": {},
   "outputs": [],
   "source": [
    "# Split the categorical column into several columns\n",
    "def data_into_cat(tX, col_num):\n",
    "    for i in np.unique(tX[:, col_num]):\n",
    "        inds = np.where(tX[:, col_num]==i)\n",
    "        pri_jet = np.zeros(tX.shape[0])\n",
    "        pri_jet[inds]=1\n",
    "        tX = np.column_stack((tX, pri_jet))\n",
    "    tX = np.delete(tX, col_num, axis=1)\n",
    "    print(\"The shape of the new matrix is: \"+str(tX.shape))\n",
    "    return tX\n",
    "tX = data_into_cat(tX, 22)"
   ]
  },
  {
   "cell_type": "code",
   "execution_count": null,
   "metadata": {},
   "outputs": [],
   "source": [
    "# Standardize the features\n",
    "tX_s = standardize(tX)"
   ]
  },
  {
   "cell_type": "markdown",
   "metadata": {},
   "source": [
    "Now as there are a few columns like the first one (i.e. with severalò -999 values) we will create a reduced dataset without those. "
   ]
  },
  {
   "cell_type": "code",
   "execution_count": null,
   "metadata": {},
   "outputs": [],
   "source": [
    "count_missing = np.count_nonzero(tX == -999, axis=0)\n",
    "print(count_missing)\n",
    "cols_missing = np.where(count_missing != 0)\n",
    "print(cols_missing)"
   ]
  },
  {
   "cell_type": "markdown",
   "metadata": {},
   "source": [
    "Eleven of the 30 features have a significant amount of -999 values. Now we can count any zeros:"
   ]
  },
  {
   "cell_type": "code",
   "execution_count": null,
   "metadata": {},
   "outputs": [],
   "source": [
    "print(np.count_nonzero(tX == 0, axis=0))"
   ]
  },
  {
   "cell_type": "code",
   "execution_count": null,
   "metadata": {},
   "outputs": [],
   "source": [
    "# Check for NaNs\n",
    "np.isnan(np.sum(tX))\n",
    "# If false, there are no NaN values"
   ]
  },
  {
   "cell_type": "markdown",
   "metadata": {},
   "source": [
    "Here, I removed features with -999 values, but we will re-do this after and keep them"
   ]
  },
  {
   "cell_type": "code",
   "execution_count": null,
   "metadata": {},
   "outputs": [],
   "source": [
    "tX_reduced = tX_s.copy()\n",
    "tX_reduced = np.delete(tX_reduced, cols_missing, axis = 1)\n",
    "print(tX.shape)\n",
    "print(tX_reduced.shape)"
   ]
  },
  {
   "cell_type": "markdown",
   "metadata": {},
   "source": [
    "# Least squares\n",
    "We will try to make a model with the least squares. We will try to implement it on a mini batch and maybe with a polynomial feature expansion"
   ]
  },
  {
   "cell_type": "code",
   "execution_count": null,
   "metadata": {},
   "outputs": [],
   "source": [
    "from batch_iter import *\n",
    "from build_polynomial import*\n",
    "from least_squares import*"
   ]
  },
  {
   "cell_type": "code",
   "execution_count": 16,
   "metadata": {},
   "outputs": [],
   "source": [
    "def least_squares_demo(y, tx, batch_size, max_iters=1):\n",
    "    \"\"\"Stochastic gradient descent algorithm.\"\"\"\n",
    "       \n",
    "    # Define parameters to store w and loss\n",
    "    ws = []\n",
    "    losses = []\n",
    "    (y, tx) = next(batch_iter(y, tx, batch_size))\n",
    "    loss, w = least_squares(y, tx)\n",
    "    \n",
    "    # store w and loss\n",
    "    ws.append(w)\n",
    "    losses.append(loss)\n",
    "        \n",
    "    return losses, ws"
   ]
  },
  {
   "cell_type": "code",
   "execution_count": 60,
   "metadata": {},
   "outputs": [],
   "source": [
    "# Visualize the distribution of the results\n",
    "def vis_results_ls(results, y, yes, no, figure=True):\n",
    "    #Split the data into -1 and 1\n",
    "    ids_yes = np.where(y == yes)\n",
    "    ids_no = np.where(y == no)\n",
    "    if figure:\n",
    "        plt.figure(figsize=(10, 10))\n",
    "    plt.hist(results[ids_yes], 50, density=False, alpha=0.5, label=\"1 values\")\n",
    "    plt.hist(results[ids_no], 50, density=False, alpha=0.5, label=\"-1 values\")\n",
    "    plt.axvline(x=yes, color = 'r')\n",
    "    plt.axvline(x=no, color ='r')\n",
    "    plt.axvline(x=np.mean([yes, no]), color = 'b', linestyle='dashed')\n",
    "    plt.xlabel(\"Predictions\")\n",
    "    plt.ylabel(\"Density\")\n",
    "    leg = plt.legend(loc=1, shadow=True)\n",
    "    leg.draw_frame(False);"
   ]
  },
  {
   "cell_type": "code",
   "execution_count": 18,
   "metadata": {},
   "outputs": [],
   "source": [
    "#Make the results into two categories\n",
    "def results_to_cat(results, th, yes, no):\n",
    "    res_no = np.where(results<th)\n",
    "    res_yes = np.where(results>=th)\n",
    "    res_cat = np.zeros(len(results))\n",
    "    res_cat[res_no]=no\n",
    "    res_cat[res_yes]=yes\n",
    "    return res_cat"
   ]
  },
  {
   "cell_type": "code",
   "execution_count": 41,
   "metadata": {},
   "outputs": [
    {
     "name": "stdout",
     "output_type": "stream",
     "text": [
      "For a degree of 1, the results have a minimum of -4.355661843931102 and a maximum of 4.98834963625967\n",
      "The train accuracy of the model is 0.7468269873079493\n",
      "For a degree of 2, the results have a minimum of -14.975119305658154 and a maximum of 4.270415014136233\n",
      "The train accuracy of the model is 0.7711430845723383\n",
      "For a degree of 3, the results have a minimum of -5.708033802220598 and a maximum of 7.281848473008722\n",
      "The train accuracy of the model is 0.7757071028284113\n",
      "For a degree of 4, the results have a minimum of -5.408349341712892 and a maximum of 12.325851530767977\n",
      "The train accuracy of the model is 0.78687114748459\n",
      "For a degree of 5, the results have a minimum of -14.735269305092515 and a maximum of 3.882875408278778\n",
      "The train accuracy of the model is 0.7960991843967375\n"
     ]
    },
    {
     "data": {
      "image/png": "[encoded data removed]",
      "text/plain": [
       "<Figure size 1080x720 with 5 Axes>"
      ]
     },
     "metadata": {
      "needs_background": "light"
     },
     "output_type": "display_data"
    }
   ],
   "source": [
    "# Try with different batch sizes and polynomial degrees for teh feature expansion\n",
    "batch_size = len(y)\n",
    "results = []\n",
    "fig = plt.figure(figsize=(15, 10))\n",
    "# Try with 5 degrees\n",
    "for degree in np.arange(5)+1:\n",
    "    tX_poly = build_poly(tX_s, degree)\n",
    "    losses, w = least_squares_demo(y, tX_poly, batch_size)\n",
    "    results.append(tX_poly.dot(w[0]))\n",
    "    print(\"For a degree of {d}, the results have a minimum of {mi} and a maximum of {mx}\".format(d=degree, mi=results[degree-1].min(), mx=results[degree-1].max()))\n",
    "    ax = fig.add_subplot(2, 3, degree)\n",
    "    vis_results_ls(results[degree-1], y, 1, -1, figure=False)\n",
    "    \n",
    "    # Find the accuracy\n",
    "    res_cat = results_to_cat(results[degree-1], 0, 1, -1)\n",
    "    acc = np.sum(res_cat==y)/len(y)\n",
    "    print(\"The TRAIN accuracy of the model is {a}\".format(a=acc))"
   ]
  },
  {
   "cell_type": "markdown",
   "metadata": {},
   "source": [
    "Here above I am showing the hisograms of the predictions made. The blue one represents the predictions that should be 1. The orange one represents the predictions that should be -1.\n",
    "I have also tried the mini batch but since without it it doesn't take long to train I don't see the point of using it"
   ]
  },
  {
   "cell_type": "markdown",
   "metadata": {},
   "source": [
    "## Test the model\n",
    "Here I am going to test the model (the ws found) onto the test dataset"
   ]
  },
  {
   "cell_type": "code",
   "execution_count": 42,
   "metadata": {},
   "outputs": [],
   "source": [
    "#Upload the test data and modify it as in the train\n",
    "DATA_TEST_PATH = 'C:/Users/franc/OneDrive/Università/EPFL/MA3/ML_course/projects/project1/data/test.csv/test.csv'\n",
    "y_te, tX_te, ids_te = load_csv_data(DATA_TEST_PATH)"
   ]
  },
  {
   "cell_type": "code",
   "execution_count": 43,
   "metadata": {},
   "outputs": [
    {
     "name": "stdout",
     "output_type": "stream",
     "text": [
      "In the 3 column, the (array([], dtype=int64),) element is outlier\n",
      "In the 8 column, the (array([], dtype=int64),) element is outlier\n",
      "In the 19 column, the (array([], dtype=int64),) element is outlier\n"
     ]
    }
   ],
   "source": [
    "# Should I look for outliers in the test set? I guess no. Anyways\n",
    "for i in [3, 8, 19]:\n",
    "    o = np.where(tX_te[:, 3]>2000)\n",
    "    print('In the {l} column, the {k} element is outlier'.format(l=i, k=o))"
   ]
  },
  {
   "cell_type": "code",
   "execution_count": 44,
   "metadata": {},
   "outputs": [
    {
     "name": "stdout",
     "output_type": "stream",
     "text": [
      "The shape of the new matrix is: (568238, 33)\n"
     ]
    }
   ],
   "source": [
    "# Rearrange the categorical column\n",
    "tX_te = data_into_cat(tX_te, 22)\n",
    "# Standardize the features\n",
    "tX_te_s = standardize(tX_te)"
   ]
  },
  {
   "cell_type": "code",
   "execution_count": 45,
   "metadata": {},
   "outputs": [
    {
     "name": "stdout",
     "output_type": "stream",
     "text": [
      "(568238, 33)\n",
      "(568238, 22)\n"
     ]
    }
   ],
   "source": [
    "tX_te_reduced = tX_te_s.copy()\n",
    "tX_te_reduced = np.delete(tX_te_reduced, cols_missing, axis = 1)\n",
    "print(tX_te_s.shape)\n",
    "print(tX_te_reduced.shape)"
   ]
  },
  {
   "cell_type": "code",
   "execution_count": 61,
   "metadata": {},
   "outputs": [
    {
     "name": "stdout",
     "output_type": "stream",
     "text": [
      "For a degree of 1, the results have a minimum of -7.889247627731493 and a maximum of 8.374954758768013\n",
      "The TRAIN accuracy of the model is 0.7468269873079493\n",
      "The TEST accuracy of the model is 0.3256311615907419\n",
      "\n",
      "For a degree of 2, the results have a minimum of -1294.287638347363 and a maximum of 1174.8320846508723\n",
      "The TRAIN accuracy of the model is 0.7702070808283233\n",
      "The TEST accuracy of the model is 0.48967510092602046\n",
      "\n",
      "For a degree of 3, the results have a minimum of -2502.268508807465 and a maximum of 2122.745492862756\n",
      "The TRAIN accuracy of the model is 0.7773591094364377\n",
      "The TEST accuracy of the model is 0.2911491311739095\n",
      "\n",
      "For a degree of 4, the results have a minimum of -1027.922258288134 and a maximum of 7824.654424790962\n",
      "The TRAIN accuracy of the model is 0.7863911455645822\n",
      "The TEST accuracy of the model is 0.7982394700811983\n",
      "\n",
      "For a degree of 5, the results have a minimum of -3035.4924183026887 and a maximum of 11439.22289763068\n",
      "The TRAIN accuracy of the model is 0.7959911839647359\n",
      "The TEST accuracy of the model is 0.5103248990739796\n",
      "\n"
     ]
    },
    {
     "data": {
      "image/png": "[encoded data removed]",
      "text/plain": [
       "<Figure size 1080x720 with 5 Axes>"
      ]
     },
     "metadata": {
      "needs_background": "light"
     },
     "output_type": "display_data"
    }
   ],
   "source": [
    "# Try with different batch sizes and polynomial degrees for teh feature expansion\n",
    "batch_size = len(y)\n",
    "results_te = []\n",
    "results_tr = []\n",
    "acc_tr = []\n",
    "acc_te = []\n",
    "fig = plt.figure(figsize=(15, 10))\n",
    "# Try with 5 degrees\n",
    "for degree in np.arange(5)+1:\n",
    "    tX_tr_poly = build_poly(tX_s, degree)\n",
    "    tX_te_poly = build_poly(tX_te_s, degree)\n",
    "    \n",
    "    losses, w = least_squares_demo(y, tX_tr_poly, batch_size)\n",
    "    results_tr.append(tX_tr_poly.dot(w[0]))\n",
    "    results_te.append(tX_te_poly.dot(w[0]))\n",
    "    \n",
    "    print(\"For a degree of {d}, the results have a minimum of {mi} and a maximum of {mx}\".format(d=degree, mi=results[degree-1].min(), mx=results[degree-1].max()))\n",
    "    ax = fig.add_subplot(2, 3, degree)\n",
    "    vis_results_ls(results_te[degree-1], y, 1, -1, figure=False)\n",
    "    \n",
    "    # Find the accuracy\n",
    "    res_cat_tr = results_to_cat(results_tr[degree-1], 0, 1, -1)\n",
    "    res_cat_te = results_to_cat(results_te[degree-1], 0, 1, -1)\n",
    "    acc_tr.append(np.sum(res_cat_tr==y)/len(y))\n",
    "    acc_te.append(np.sum(res_cat_te==y_te)/len(y_te))\n",
    "    print(\"The TRAIN accuracy of the model is {a}\".format(a=acc_tr[degree-1]))\n",
    "    print(\"The TEST accuracy of the model is {a}\\n\".format(a=acc_te[degree-1]))"
   ]
  },
  {
   "cell_type": "markdown",
   "metadata": {},
   "source": [
    "### NOTE\n",
    "If you re-reun the code above You will notice that the TEST accuracy changes"
   ]
  },
  {
   "cell_type": "markdown",
   "metadata": {},
   "source": [
    "I will now try to see how it works with the reduced set"
   ]
  },
  {
   "cell_type": "code",
   "execution_count": 62,
   "metadata": {},
   "outputs": [
    {
     "name": "stdout",
     "output_type": "stream",
     "text": [
      "For a degree of 1, the results have a minimum of -7.889247627731493 and a maximum of 8.374954758768013\n",
      "The TRAIN accuracy of the model is 0.7358789435157741\n",
      "The TEST accuracy of the model is 0.28817678507949135\n",
      "\n",
      "For a degree of 2, the results have a minimum of -1294.287638347363 and a maximum of 1174.8320846508723\n",
      "The TRAIN accuracy of the model is 0.7556390225560903\n",
      "The TEST accuracy of the model is 0.3557312252964427\n",
      "\n",
      "For a degree of 3, the results have a minimum of -2502.268508807465 and a maximum of 2122.745492862756\n",
      "The TRAIN accuracy of the model is 0.7603870415481662\n",
      "The TEST accuracy of the model is 0.2448639478528363\n",
      "\n",
      "For a degree of 4, the results have a minimum of -1027.922258288134 and a maximum of 7824.654424790962\n",
      "The TRAIN accuracy of the model is 0.7675110700442802\n",
      "The TEST accuracy of the model is 0.3113343352609294\n",
      "\n",
      "For a degree of 5, the results have a minimum of -3035.4924183026887 and a maximum of 11439.22289763068\n",
      "The TRAIN accuracy of the model is 0.7719430877723511\n",
      "The TEST accuracy of the model is 0.5103213794220027\n",
      "\n"
     ]
    },
    {
     "data": {
      "image/png": "[encoded data removed]",
      "text/plain": [
       "<Figure size 1080x720 with 5 Axes>"
      ]
     },
     "metadata": {
      "needs_background": "light"
     },
     "output_type": "display_data"
    }
   ],
   "source": [
    "# Try with different batch sizes and polynomial degrees for teh feature expansion\n",
    "batch_size = len(y)\n",
    "results_te = []\n",
    "results_tr = []\n",
    "acc_tr = []\n",
    "acc_te = []\n",
    "fig = plt.figure(figsize=(15, 10))\n",
    "# Try with 5 degrees\n",
    "for degree in np.arange(5)+1:\n",
    "    tX_tr_poly = build_poly(tX_reduced, degree)\n",
    "    tX_te_poly = build_poly(tX_te_reduced, degree)\n",
    "    \n",
    "    losses, w = least_squares_demo(y, tX_tr_poly, batch_size)\n",
    "    results_tr.append(tX_tr_poly.dot(w[0]))\n",
    "    results_te.append(tX_te_poly.dot(w[0]))\n",
    "    \n",
    "    print(\"For a degree of {d}, the results have a minimum of {mi} and a maximum of {mx}\".format(d=degree, mi=results[degree-1].min(), mx=results[degree-1].max()))\n",
    "    ax = fig.add_subplot(2, 3, degree)\n",
    "    vis_results_ls(results_te[degree-1], y, 1, -1, figure=False)\n",
    "    \n",
    "    # Find the accuracy\n",
    "    res_cat_tr = results_to_cat(results_tr[degree-1], 0, 1, -1)\n",
    "    res_cat_te = results_to_cat(results_te[degree-1], 0, 1, -1)\n",
    "    acc_tr.append(np.sum(res_cat_tr==y)/len(y))\n",
    "    acc_te.append(np.sum(res_cat_te==y_te)/len(y_te))\n",
    "    print(\"The TRAIN accuracy of the model is {a}\".format(a=acc_tr[degree-1]))\n",
    "    print(\"The TEST accuracy of the model is {a}\\n\".format(a=acc_te[degree-1]))"
   ]
  },
  {
   "cell_type": "markdown",
   "metadata": {},
   "source": [
    "# Ridge regression\n",
    "Try the ridge regression now. Use the two sets (tX_s and tX_reduced)"
   ]
  },
  {
   "cell_type": "code",
   "execution_count": 75,
   "metadata": {},
   "outputs": [],
   "source": [
    "from ridge_regression import*\n",
    "from costs import*\n",
    "def ridge_regression_demo(y, tX, y_te, tX_te, degree):\n",
    "    \"\"\"Stochastic gradient descent algorithm.\"\"\"\n",
    "       \n",
    "    # Define parameters to store w and loss\n",
    "    lambdas = np.logspace(-5, 5, 15)\n",
    "    ws = []\n",
    "    rmse_tr = []\n",
    "    rmse_te = []\n",
    "    \n",
    "    for ind, lambda_ in enumerate(lambdas):\n",
    "        w = ridge_regression(y, tX, lambda_)\n",
    "        mse_tr = compute_loss(y, tX, w)\n",
    "        mse_te = compute_loss(y_te, tX_te, w)\n",
    "        # store w and loss\n",
    "        ws.append(w)\n",
    "        rmse_tr.append(np.sqrt(2*mse_tr))\n",
    "        rmse_te.append(np.sqrt(2*mse_te))\n",
    "        print(\"lambda={l:.3f}, Training RMSE={tr:.3f}, Testing RMSE={te:.3f}\".format(\n",
    "               l=lambda_, tr=rmse_tr[ind], te=rmse_te[ind]))\n",
    "        \n",
    "    plt.semilogx(lambdas, rmse_tr, color='b', marker='*', label=\"Train error\")\n",
    "    plt.semilogx(lambdas, rmse_te, color='r', marker='*', label=\"Test error\")\n",
    "    plt.xlabel(\"lambda\")\n",
    "    plt.ylabel(\"RMSE\")\n",
    "    plt.title(\"Ridge regression for polynomial degree \" + str(degree))\n",
    "    leg = plt.legend(loc=1, shadow=True)\n",
    "    leg.draw_frame(False)\n",
    "    return ws, rmse_tr, rmse_te"
   ]
  },
  {
   "cell_type": "code",
   "execution_count": 77,
   "metadata": {},
   "outputs": [
    {
     "name": "stdout",
     "output_type": "stream",
     "text": [
      "lambda=0.000, Training RMSE=0.824, Testing RMSE=1.396\n",
      "lambda=0.000, Training RMSE=0.824, Testing RMSE=1.396\n",
      "lambda=0.000, Training RMSE=0.824, Testing RMSE=1.396\n",
      "lambda=0.001, Training RMSE=0.824, Testing RMSE=1.394\n",
      "lambda=0.007, Training RMSE=0.825, Testing RMSE=1.389\n",
      "lambda=0.037, Training RMSE=0.830, Testing RMSE=1.382\n",
      "lambda=0.193, Training RMSE=0.836, Testing RMSE=1.378\n",
      "lambda=1.000, Training RMSE=0.841, Testing RMSE=1.377\n",
      "lambda=5.179, Training RMSE=0.844, Testing RMSE=1.376\n",
      "lambda=26.827, Training RMSE=0.846, Testing RMSE=1.372\n",
      "lambda=138.950, Training RMSE=0.852, Testing RMSE=1.361\n",
      "lambda=719.686, Training RMSE=0.870, Testing RMSE=1.342\n",
      "lambda=3727.594, Training RMSE=0.892, Testing RMSE=1.326\n",
      "lambda=19306.977, Training RMSE=0.907, Testing RMSE=1.309\n",
      "lambda=100000.000, Training RMSE=0.920, Testing RMSE=1.290\n",
      "For a degree of 1, the results have a minimum of -7.889247627731493 and a maximum of 8.374954758768013\n",
      "The TRAIN accuracy of the model is 0.6513386053544215\n",
      "The TEST accuracy of the model is 0.2468807084355499\n",
      "\n",
      "lambda=0.000, Training RMSE=0.799, Testing RMSE=1.411\n",
      "lambda=0.000, Training RMSE=0.799, Testing RMSE=1.410\n",
      "lambda=0.000, Training RMSE=0.799, Testing RMSE=1.410\n",
      "lambda=0.001, Training RMSE=0.800, Testing RMSE=1.407\n",
      "lambda=0.007, Training RMSE=0.803, Testing RMSE=1.403\n",
      "lambda=0.037, Training RMSE=0.809, Testing RMSE=1.399\n",
      "lambda=0.193, Training RMSE=0.813, Testing RMSE=1.396\n",
      "lambda=1.000, Training RMSE=0.817, Testing RMSE=1.390\n",
      "lambda=5.179, Training RMSE=0.825, Testing RMSE=1.385\n",
      "lambda=26.827, Training RMSE=0.832, Testing RMSE=1.377\n",
      "lambda=138.950, Training RMSE=0.844, Testing RMSE=1.361\n",
      "lambda=719.686, Training RMSE=0.866, Testing RMSE=1.351\n",
      "lambda=3727.594, Training RMSE=0.879, Testing RMSE=1.347\n",
      "lambda=19306.977, Training RMSE=0.883, Testing RMSE=1.347\n",
      "lambda=100000.000, Training RMSE=0.885, Testing RMSE=1.348\n",
      "For a degree of 2, the results have a minimum of -1294.287638347363 and a maximum of 1174.8320846508723\n",
      "The TRAIN accuracy of the model is 0.7027068108272433\n",
      "The TEST accuracy of the model is 0.11881817125922589\n",
      "\n",
      "lambda=0.000, Training RMSE=0.788, Testing RMSE=1.418\n",
      "lambda=0.000, Training RMSE=0.788, Testing RMSE=1.418\n",
      "lambda=0.000, Training RMSE=0.789, Testing RMSE=1.416\n",
      "lambda=0.001, Training RMSE=0.791, Testing RMSE=1.414\n",
      "lambda=0.007, Training RMSE=0.794, Testing RMSE=1.409\n",
      "lambda=0.037, Training RMSE=0.799, Testing RMSE=1.406\n",
      "lambda=0.193, Training RMSE=0.804, Testing RMSE=1.403\n",
      "lambda=1.000, Training RMSE=0.808, Testing RMSE=1.398\n",
      "lambda=5.179, Training RMSE=0.815, Testing RMSE=1.391\n",
      "lambda=26.827, Training RMSE=0.824, Testing RMSE=1.380\n",
      "lambda=138.950, Training RMSE=0.840, Testing RMSE=1.372\n",
      "lambda=719.686, Training RMSE=0.853, Testing RMSE=1.371\n",
      "lambda=3727.594, Training RMSE=0.859, Testing RMSE=1.371\n",
      "lambda=19306.977, Training RMSE=0.861, Testing RMSE=1.371\n",
      "lambda=100000.000, Training RMSE=0.861, Testing RMSE=1.369\n",
      "For a degree of 3, the results have a minimum of -2502.268508807465 and a maximum of 2122.745492862756\n",
      "The TRAIN accuracy of the model is 0.7129588518354073\n",
      "The TEST accuracy of the model is 0.15509874383620947\n",
      "\n",
      "lambda=0.000, Training RMSE=0.779, Testing RMSE=1.456\n",
      "lambda=0.000, Training RMSE=0.779, Testing RMSE=1.455\n",
      "lambda=0.000, Training RMSE=0.779, Testing RMSE=1.454\n",
      "lambda=0.001, Training RMSE=0.780, Testing RMSE=1.449\n",
      "lambda=0.007, Training RMSE=0.784, Testing RMSE=1.442\n",
      "lambda=0.037, Training RMSE=0.789, Testing RMSE=1.438\n",
      "lambda=0.193, Training RMSE=0.793, Testing RMSE=1.435\n",
      "lambda=1.000, Training RMSE=0.796, Testing RMSE=1.427\n",
      "lambda=5.179, Training RMSE=0.802, Testing RMSE=1.416\n",
      "lambda=26.827, Training RMSE=0.811, Testing RMSE=1.414\n",
      "lambda=138.950, Training RMSE=0.825, Testing RMSE=1.420\n",
      "lambda=719.686, Training RMSE=0.836, Testing RMSE=1.426\n",
      "lambda=3727.594, Training RMSE=0.841, Testing RMSE=1.429\n",
      "lambda=19306.977, Training RMSE=0.842, Testing RMSE=1.427\n",
      "lambda=100000.000, Training RMSE=0.843, Testing RMSE=1.417\n",
      "For a degree of 4, the results have a minimum of -1027.922258288134 and a maximum of 7824.654424790962\n",
      "The TRAIN accuracy of the model is 0.7316949267797072\n",
      "The TEST accuracy of the model is 0.20044945955743895\n",
      "\n",
      "lambda=0.000, Training RMSE=0.770, Testing RMSE=1.887\n",
      "lambda=0.000, Training RMSE=0.770, Testing RMSE=1.884\n",
      "lambda=0.000, Training RMSE=0.771, Testing RMSE=1.874\n",
      "lambda=0.001, Training RMSE=0.773, Testing RMSE=1.846\n",
      "lambda=0.007, Training RMSE=0.777, Testing RMSE=1.820\n",
      "lambda=0.037, Training RMSE=0.779, Testing RMSE=1.812\n",
      "lambda=0.193, Training RMSE=0.781, Testing RMSE=1.787\n",
      "lambda=1.000, Training RMSE=0.784, Testing RMSE=1.692\n",
      "lambda=5.179, Training RMSE=0.791, Testing RMSE=1.599\n",
      "lambda=26.827, Training RMSE=0.802, Testing RMSE=1.553\n",
      "lambda=138.950, Training RMSE=0.815, Testing RMSE=1.588\n",
      "lambda=719.686, Training RMSE=0.824, Testing RMSE=1.639\n",
      "lambda=3727.594, Training RMSE=0.826, Testing RMSE=1.657\n",
      "lambda=19306.977, Training RMSE=0.827, Testing RMSE=1.642\n",
      "lambda=100000.000, Training RMSE=0.846, Testing RMSE=1.565\n",
      "For a degree of 5, the results have a minimum of -3035.4924183026887 and a maximum of 11439.22289763068\n",
      "The TRAIN accuracy of the model is 0.7424629698518794\n",
      "The TEST accuracy of the model is 0.23988364030564657\n",
      "\n"
     ]
    },
    {
     "data": {
      "image/png": "[encoded data removed]",
      "text/plain": [
       "<Figure size 1080x720 with 5 Axes>"
      ]
     },
     "metadata": {
      "needs_background": "light"
     },
     "output_type": "display_data"
    }
   ],
   "source": [
    "degree = 1\n",
    "results_te = []\n",
    "results_tr = []\n",
    "acc_tr = []\n",
    "acc_te = []\n",
    "fig = plt.figure(figsize=(15, 10))\n",
    "\n",
    "for degree in np.arange(5)+1:\n",
    "    tX_tr_poly = build_poly(tX, degree)\n",
    "    tX_te_poly = build_poly(tX_te, degree)\n",
    "    \n",
    "    ax = fig.add_subplot(2, 3, degree)\n",
    "    w, rmse_tr, rmse_te = ridge_regression_demo(y, tX_tr_poly, y_te, tX_te_poly, degree)\n",
    "    results_tr.append(tX_tr_poly.dot(w[-1]))\n",
    "    results_te.append(tX_te_poly.dot(w[-1]))\n",
    "\n",
    "    print(\"For a degree of {d}, the results have a minimum of {mi} and a maximum of {mx}\".format(d=degree, mi=results[degree-1].min(), mx=results[degree-1].max()))\n",
    "    #vis_results_ls(results_te[degree-1], y, 1, -1, figure=False)\n",
    "\n",
    "    # Find the accuracy\n",
    "    res_cat_tr = results_to_cat(results_tr[degree-1], 0, 1, -1)\n",
    "    res_cat_te = results_to_cat(results_te[degree-1], 0, 1, -1)\n",
    "    acc_tr.append(np.sum(res_cat_tr==y)/len(y))\n",
    "    acc_te.append(np.sum(res_cat_te==y_te)/len(y_te))\n",
    "    print(\"The TRAIN accuracy of the model is {a}\".format(a=acc_tr[degree-1]))\n",
    "    print(\"The TEST accuracy of the model is {a}\\n\".format(a=acc_te[degree-1]))"
   ]
  },
  {
   "cell_type": "markdown",
   "metadata": {},
   "source": [
    "# FUNCTIONS"
   ]
  },
  {
   "cell_type": "code",
   "execution_count": 17,
   "metadata": {},
   "outputs": [],
   "source": [
    "def sigmoid(t):\n",
    "    \"\"\"apply the sigmoid function on t.\"\"\"\n",
    "    return 1 / (1 + np.exp(-t))"
   ]
  },
  {
   "cell_type": "code",
   "execution_count": 18,
   "metadata": {},
   "outputs": [],
   "source": [
    "def calculate_gradient(y, tx, w):\n",
    "    \"\"\"compute the gradient of loss.\"\"\"\n",
    "    return tx.T.dot(sigmoid(tx.dot(w))-y)"
   ]
  },
  {
   "cell_type": "code",
   "execution_count": 19,
   "metadata": {},
   "outputs": [],
   "source": [
    "def calculate_hessian(y, tx, w):\n",
    "    \"\"\"return the Hessian of the loss function.\"\"\"\n",
    "    diagVal = np.squeeze(np.multiply(sigmoid(tx.dot(w)), 1 - sigmoid(tx.dot(w))))\n",
    "    S = np.diag(diagVal)\n",
    "\n",
    "    return tx.T.dot(S).dot(tx)"
   ]
  },
  {
   "cell_type": "code",
   "execution_count": 20,
   "metadata": {},
   "outputs": [],
   "source": [
    "def calculate_loss(y, tx, w):\n",
    "    \"\"\"compute the loss: negative log likelihood.\"\"\"\n",
    "    return np.sum(np.log(1+np.exp(tx.dot(w))) - np.multiply(y, tx.dot(w)))"
   ]
  },
  {
   "cell_type": "code",
   "execution_count": 21,
   "metadata": {},
   "outputs": [],
   "source": [
    "def logistic_regression(y, tx, w):\n",
    "    \"\"\"return the loss, gradient, and Hessian.\"\"\"\n",
    "\n",
    "    loss = calculate_loss(y, tx, w)\n",
    "    grad = calculate_gradient(y, tx, w)\n",
    "    hess = calculate_hessian(y, tx, w) \n",
    "    \n",
    "    return loss, grad, hess"
   ]
  },
  {
   "cell_type": "code",
   "execution_count": null,
   "metadata": {},
   "outputs": [],
   "source": []
  },
  {
   "cell_type": "code",
   "execution_count": null,
   "metadata": {},
   "outputs": [],
   "source": []
  },
  {
   "cell_type": "code",
   "execution_count": null,
   "metadata": {},
   "outputs": [],
   "source": []
  },
  {
   "cell_type": "code",
   "execution_count": 80,
   "metadata": {},
   "outputs": [],
   "source": [
    "def learning_by_gradient_descent(y, tx, w, gamma):\n",
    "    \"\"\"\n",
    "    Do one step of gradient descent using logistic regression.\n",
    "    Return the loss and the updated w.\n",
    "    \"\"\"\n",
    "    grad = calculate_gradient(y, tx, w)\n",
    "    w = w - gamma*grad\n",
    "    \n",
    "    return w"
   ]
  },
  {
   "cell_type": "code",
   "execution_count": 94,
   "metadata": {},
   "outputs": [
    {
     "ename": "MemoryError",
     "evalue": "",
     "output_type": "error",
     "traceback": [
      "\u001b[1;31m---------------------------------------------------------------------------\u001b[0m",
      "\u001b[1;31mMemoryError\u001b[0m                               Traceback (most recent call last)",
      "\u001b[1;32m<ipython-input-94-e1fbecb97b7b>\u001b[0m in \u001b[0;36m<module>\u001b[1;34m\u001b[0m\n\u001b[1;32m----> 1\u001b[1;33m \u001b[0mcalculate_gradient\u001b[0m\u001b[1;33m(\u001b[0m\u001b[0my\u001b[0m\u001b[1;33m,\u001b[0m \u001b[0mtX\u001b[0m\u001b[1;33m,\u001b[0m \u001b[0mw\u001b[0m\u001b[1;33m)\u001b[0m\u001b[1;33m\u001b[0m\u001b[1;33m\u001b[0m\u001b[0m\n\u001b[0m",
      "\u001b[1;32m<ipython-input-76-a58f951d20ca>\u001b[0m in \u001b[0;36mcalculate_gradient\u001b[1;34m(y, tx, w)\u001b[0m\n\u001b[0;32m      1\u001b[0m \u001b[1;32mdef\u001b[0m \u001b[0mcalculate_gradient\u001b[0m\u001b[1;33m(\u001b[0m\u001b[0my\u001b[0m\u001b[1;33m,\u001b[0m \u001b[0mtx\u001b[0m\u001b[1;33m,\u001b[0m \u001b[0mw\u001b[0m\u001b[1;33m)\u001b[0m\u001b[1;33m:\u001b[0m\u001b[1;33m\u001b[0m\u001b[1;33m\u001b[0m\u001b[0m\n\u001b[0;32m      2\u001b[0m     \u001b[1;34m\"\"\"compute the gradient of loss.\"\"\"\u001b[0m\u001b[1;33m\u001b[0m\u001b[1;33m\u001b[0m\u001b[0m\n\u001b[1;32m----> 3\u001b[1;33m     \u001b[1;32mreturn\u001b[0m \u001b[0mtx\u001b[0m\u001b[1;33m.\u001b[0m\u001b[0mT\u001b[0m\u001b[1;33m.\u001b[0m\u001b[0mdot\u001b[0m\u001b[1;33m(\u001b[0m\u001b[0msigmoid\u001b[0m\u001b[1;33m(\u001b[0m\u001b[0mtx\u001b[0m\u001b[1;33m.\u001b[0m\u001b[0mdot\u001b[0m\u001b[1;33m(\u001b[0m\u001b[0mw\u001b[0m\u001b[1;33m)\u001b[0m\u001b[1;33m)\u001b[0m\u001b[1;33m-\u001b[0m\u001b[0my\u001b[0m\u001b[1;33m)\u001b[0m\u001b[1;33m\u001b[0m\u001b[1;33m\u001b[0m\u001b[0m\n\u001b[0m",
      "\u001b[1;31mMemoryError\u001b[0m: "
     ]
    }
   ],
   "source": [
    "calculate_gradient(y, tX, w)"
   ]
  },
  {
   "cell_type": "code",
   "execution_count": 95,
   "metadata": {},
   "outputs": [
    {
     "data": {
      "text/plain": [
       "(250000, 30)"
      ]
     },
     "execution_count": 95,
     "metadata": {},
     "output_type": "execute_result"
    }
   ],
   "source": [
    "tX.shape"
   ]
  },
  {
   "cell_type": "code",
   "execution_count": null,
   "metadata": {},
   "outputs": [],
   "source": []
  },
  {
   "cell_type": "code",
   "execution_count": 81,
   "metadata": {},
   "outputs": [],
   "source": [
    "def build_k_indices(y, k_fold, seed):\n",
    "    \"\"\"build k indices for k-fold.\"\"\"\n",
    "    num_row = y.shape[0]\n",
    "    interval = int(num_row / k_fold)\n",
    "    np.random.seed(seed)\n",
    "    indices = np.random.permutation(num_row)\n",
    "    k_indices = [indices[k * interval: (k + 1) * interval]\n",
    "                 for k in range(k_fold)]\n",
    "    return np.array(k_indices)"
   ]
  },
  {
   "cell_type": "code",
   "execution_count": 84,
   "metadata": {},
   "outputs": [],
   "source": [
    "from build_polynomial import build_poly\n",
    "\n",
    "def cross_validation(y, x, k_indices, k, max_iter, threshold, gamma, degree=1):\n",
    "    \"\"\"return the loss of ridge regression.\"\"\"\n",
    "    x_tr = x[k_indices][np.arange(len(k_indices))!=k].ravel()\n",
    "    x_te = x[k_indices][k].ravel()\n",
    "    y_tr = y[k_indices][np.arange(len(k_indices))!=k].ravel()\n",
    "    y_te = y[k_indices][k].ravel()\n",
    "    \n",
    "    #x_tr = build_poly(x_tr, degree)\n",
    "    #x_te = build_poly(x_te, degree)\n",
    "    \n",
    "    w = np.zeros((x.shape[1], 1))\n",
    "    # start the logistic regression\n",
    "    for iter in range(max_iter):\n",
    "        #ger loss and update w\n",
    "        w = learning_by_gradient_descent(y_tr, x_tr, w, gamma)\n",
    "        loss_tr = calculate_loss(y_tr, x_tr, w)\n",
    "        loss_te = calculate_loss(y_te, x_te, w)\n",
    "        \n",
    "        losses_tr.append(loss_tr)\n",
    "        losses_te.append(loss_te)\n",
    "        if len(losses_te) > 1 and np.abs(losses_te[-1] - losses_te[-2]) < threshold:\n",
    "            break\n",
    "        print(\"loss={l}\".format(l=calculate_loss(y, tx, w)))\n",
    "    return losses_tr, losses_te"
   ]
  },
  {
   "cell_type": "code",
   "execution_count": null,
   "metadata": {},
   "outputs": [],
   "source": []
  },
  {
   "cell_type": "code",
   "execution_count": 86,
   "metadata": {},
   "outputs": [],
   "source": [
    "def cross_validation_demo(y, x):\n",
    "    seed = 1\n",
    "    degree = 1\n",
    "    k_fold = 4\n",
    "    \n",
    "    max_iter = 10000\n",
    "    threshold = 1e-8\n",
    "    gamma = 0.01\n",
    "    \n",
    "    # split data in k fold\n",
    "    k_indices = build_k_indices(y, k_fold, seed)\n",
    "    # define lists to store the loss of training data and test data\n",
    "    rmse_tr = []\n",
    "    rmse_te = []\n",
    "    \n",
    "    for k in range(k_fold):\n",
    "        loss_tr_k, loss_te_k = cross_validation(y, x, k_indices, k, max_iter, threshold, gamma, degree)\n",
    "        loss_tr.append(loss_tr_k)\n",
    "        loss_te.append(loss_te_k)\n",
    "    loss_tr = np.sum(loss_tr)/k_fold\n",
    "    loss_te = np.sum(loss_te)/k_fold\n",
    "        \n",
    "    rmse_tr.append(np.sqrt(2*loss_tr))\n",
    "    rmse_te.append(np.sqrt(2*loss_te))\n",
    "        "
   ]
  },
  {
   "cell_type": "code",
   "execution_count": 89,
   "metadata": {},
   "outputs": [
    {
     "ename": "ValueError",
     "evalue": "shapes (5625000,2) and (30,1) not aligned: 2 (dim 1) != 30 (dim 0)",
     "output_type": "error",
     "traceback": [
      "\u001b[1;31m---------------------------------------------------------------------------\u001b[0m",
      "\u001b[1;31mValueError\u001b[0m                                Traceback (most recent call last)",
      "\u001b[1;32m<ipython-input-89-cd42c24bcf2e>\u001b[0m in \u001b[0;36m<module>\u001b[1;34m\u001b[0m\n\u001b[1;32m----> 1\u001b[1;33m \u001b[0mcross_validation_demo\u001b[0m\u001b[1;33m(\u001b[0m\u001b[0my\u001b[0m\u001b[1;33m,\u001b[0m \u001b[0mtX\u001b[0m\u001b[1;33m)\u001b[0m\u001b[1;33m\u001b[0m\u001b[1;33m\u001b[0m\u001b[0m\n\u001b[0m",
      "\u001b[1;32m<ipython-input-86-dc6f0664eb91>\u001b[0m in \u001b[0;36mcross_validation_demo\u001b[1;34m(y, x)\u001b[0m\n\u001b[0;32m     15\u001b[0m \u001b[1;33m\u001b[0m\u001b[0m\n\u001b[0;32m     16\u001b[0m     \u001b[1;32mfor\u001b[0m \u001b[0mk\u001b[0m \u001b[1;32min\u001b[0m \u001b[0mrange\u001b[0m\u001b[1;33m(\u001b[0m\u001b[0mk_fold\u001b[0m\u001b[1;33m)\u001b[0m\u001b[1;33m:\u001b[0m\u001b[1;33m\u001b[0m\u001b[1;33m\u001b[0m\u001b[0m\n\u001b[1;32m---> 17\u001b[1;33m         \u001b[0mloss_tr_k\u001b[0m\u001b[1;33m,\u001b[0m \u001b[0mloss_te_k\u001b[0m \u001b[1;33m=\u001b[0m \u001b[0mcross_validation\u001b[0m\u001b[1;33m(\u001b[0m\u001b[0my\u001b[0m\u001b[1;33m,\u001b[0m \u001b[0mx\u001b[0m\u001b[1;33m,\u001b[0m \u001b[0mk_indices\u001b[0m\u001b[1;33m,\u001b[0m \u001b[0mk\u001b[0m\u001b[1;33m,\u001b[0m \u001b[0mmax_iter\u001b[0m\u001b[1;33m,\u001b[0m \u001b[0mthreshold\u001b[0m\u001b[1;33m,\u001b[0m \u001b[0mgamma\u001b[0m\u001b[1;33m,\u001b[0m \u001b[0mdegree\u001b[0m\u001b[1;33m)\u001b[0m\u001b[1;33m\u001b[0m\u001b[1;33m\u001b[0m\u001b[0m\n\u001b[0m\u001b[0;32m     18\u001b[0m         \u001b[0mloss_tr\u001b[0m\u001b[1;33m.\u001b[0m\u001b[0mappend\u001b[0m\u001b[1;33m(\u001b[0m\u001b[0mloss_tr_k\u001b[0m\u001b[1;33m)\u001b[0m\u001b[1;33m\u001b[0m\u001b[1;33m\u001b[0m\u001b[0m\n\u001b[0;32m     19\u001b[0m         \u001b[0mloss_te\u001b[0m\u001b[1;33m.\u001b[0m\u001b[0mappend\u001b[0m\u001b[1;33m(\u001b[0m\u001b[0mloss_te_k\u001b[0m\u001b[1;33m)\u001b[0m\u001b[1;33m\u001b[0m\u001b[1;33m\u001b[0m\u001b[0m\n",
      "\u001b[1;32m<ipython-input-84-36c162b7fde0>\u001b[0m in \u001b[0;36mcross_validation\u001b[1;34m(y, x, k_indices, k, max_iter, threshold, gamma, degree)\u001b[0m\n\u001b[0;32m     15\u001b[0m     \u001b[1;32mfor\u001b[0m \u001b[0miter\u001b[0m \u001b[1;32min\u001b[0m \u001b[0mrange\u001b[0m\u001b[1;33m(\u001b[0m\u001b[0mmax_iter\u001b[0m\u001b[1;33m)\u001b[0m\u001b[1;33m:\u001b[0m\u001b[1;33m\u001b[0m\u001b[1;33m\u001b[0m\u001b[0m\n\u001b[0;32m     16\u001b[0m         \u001b[1;31m#ger loss and update w\u001b[0m\u001b[1;33m\u001b[0m\u001b[1;33m\u001b[0m\u001b[1;33m\u001b[0m\u001b[0m\n\u001b[1;32m---> 17\u001b[1;33m         \u001b[0mw\u001b[0m \u001b[1;33m=\u001b[0m \u001b[0mlearning_by_gradient_descent\u001b[0m\u001b[1;33m(\u001b[0m\u001b[0my_tr\u001b[0m\u001b[1;33m,\u001b[0m \u001b[0mx_tr\u001b[0m\u001b[1;33m,\u001b[0m \u001b[0mw\u001b[0m\u001b[1;33m,\u001b[0m \u001b[0mgamma\u001b[0m\u001b[1;33m)\u001b[0m\u001b[1;33m\u001b[0m\u001b[1;33m\u001b[0m\u001b[0m\n\u001b[0m\u001b[0;32m     18\u001b[0m         \u001b[0mloss_tr\u001b[0m \u001b[1;33m=\u001b[0m \u001b[0mcalculate_loss\u001b[0m\u001b[1;33m(\u001b[0m\u001b[0my_tr\u001b[0m\u001b[1;33m,\u001b[0m \u001b[0mx_tr\u001b[0m\u001b[1;33m,\u001b[0m \u001b[0mw\u001b[0m\u001b[1;33m)\u001b[0m\u001b[1;33m\u001b[0m\u001b[1;33m\u001b[0m\u001b[0m\n\u001b[0;32m     19\u001b[0m         \u001b[0mloss_te\u001b[0m \u001b[1;33m=\u001b[0m \u001b[0mcalculate_loss\u001b[0m\u001b[1;33m(\u001b[0m\u001b[0my_te\u001b[0m\u001b[1;33m,\u001b[0m \u001b[0mx_te\u001b[0m\u001b[1;33m,\u001b[0m \u001b[0mw\u001b[0m\u001b[1;33m)\u001b[0m\u001b[1;33m\u001b[0m\u001b[1;33m\u001b[0m\u001b[0m\n",
      "\u001b[1;32m<ipython-input-80-828e623982ff>\u001b[0m in \u001b[0;36mlearning_by_gradient_descent\u001b[1;34m(y, tx, w, gamma)\u001b[0m\n\u001b[0;32m      4\u001b[0m     \u001b[0mReturn\u001b[0m \u001b[0mthe\u001b[0m \u001b[0mloss\u001b[0m \u001b[1;32mand\u001b[0m \u001b[0mthe\u001b[0m \u001b[0mupdated\u001b[0m \u001b[0mw\u001b[0m\u001b[1;33m.\u001b[0m\u001b[1;33m\u001b[0m\u001b[1;33m\u001b[0m\u001b[0m\n\u001b[0;32m      5\u001b[0m     \"\"\"\n\u001b[1;32m----> 6\u001b[1;33m     \u001b[0mgrad\u001b[0m \u001b[1;33m=\u001b[0m \u001b[0mcalculate_gradient\u001b[0m\u001b[1;33m(\u001b[0m\u001b[0my\u001b[0m\u001b[1;33m,\u001b[0m \u001b[0mtx\u001b[0m\u001b[1;33m,\u001b[0m \u001b[0mw\u001b[0m\u001b[1;33m)\u001b[0m\u001b[1;33m\u001b[0m\u001b[1;33m\u001b[0m\u001b[0m\n\u001b[0m\u001b[0;32m      7\u001b[0m     \u001b[0mw\u001b[0m \u001b[1;33m=\u001b[0m \u001b[0mw\u001b[0m \u001b[1;33m-\u001b[0m \u001b[0mgamma\u001b[0m\u001b[1;33m*\u001b[0m\u001b[0mgrad\u001b[0m\u001b[1;33m\u001b[0m\u001b[1;33m\u001b[0m\u001b[0m\n\u001b[0;32m      8\u001b[0m \u001b[1;33m\u001b[0m\u001b[0m\n",
      "\u001b[1;32m<ipython-input-76-a58f951d20ca>\u001b[0m in \u001b[0;36mcalculate_gradient\u001b[1;34m(y, tx, w)\u001b[0m\n\u001b[0;32m      1\u001b[0m \u001b[1;32mdef\u001b[0m \u001b[0mcalculate_gradient\u001b[0m\u001b[1;33m(\u001b[0m\u001b[0my\u001b[0m\u001b[1;33m,\u001b[0m \u001b[0mtx\u001b[0m\u001b[1;33m,\u001b[0m \u001b[0mw\u001b[0m\u001b[1;33m)\u001b[0m\u001b[1;33m:\u001b[0m\u001b[1;33m\u001b[0m\u001b[1;33m\u001b[0m\u001b[0m\n\u001b[0;32m      2\u001b[0m     \u001b[1;34m\"\"\"compute the gradient of loss.\"\"\"\u001b[0m\u001b[1;33m\u001b[0m\u001b[1;33m\u001b[0m\u001b[0m\n\u001b[1;32m----> 3\u001b[1;33m     \u001b[1;32mreturn\u001b[0m \u001b[0mtx\u001b[0m\u001b[1;33m.\u001b[0m\u001b[0mT\u001b[0m\u001b[1;33m.\u001b[0m\u001b[0mdot\u001b[0m\u001b[1;33m(\u001b[0m\u001b[0msigmoid\u001b[0m\u001b[1;33m(\u001b[0m\u001b[0mtx\u001b[0m\u001b[1;33m.\u001b[0m\u001b[0mdot\u001b[0m\u001b[1;33m(\u001b[0m\u001b[0mw\u001b[0m\u001b[1;33m)\u001b[0m\u001b[1;33m)\u001b[0m\u001b[1;33m-\u001b[0m\u001b[0my\u001b[0m\u001b[1;33m)\u001b[0m\u001b[1;33m\u001b[0m\u001b[1;33m\u001b[0m\u001b[0m\n\u001b[0m",
      "\u001b[1;31mValueError\u001b[0m: shapes (5625000,2) and (30,1) not aligned: 2 (dim 1) != 30 (dim 0)"
     ]
    }
   ],
   "source": [
    "cross_validation_demo(y, tX)"
   ]
  },
  {
   "cell_type": "code",
   "execution_count": 91,
   "metadata": {},
   "outputs": [],
   "source": [
    "w = np.zeros((tX.shape[1], 1))"
   ]
  },
  {
   "cell_type": "code",
   "execution_count": 92,
   "metadata": {},
   "outputs": [
    {
     "data": {
      "text/plain": [
       "(30, 1)"
      ]
     },
     "execution_count": 92,
     "metadata": {},
     "output_type": "execute_result"
    }
   ],
   "source": [
    "w.shape"
   ]
  },
  {
   "cell_type": "markdown",
   "metadata": {},
   "source": [
    "## Do your thing crazy machine learning thing here :) ..."
   ]
  },
  {
   "cell_type": "markdown",
   "metadata": {},
   "source": [
    "## Generate predictions and save ouput in csv format for submission:"
   ]
  },
  {
   "cell_type": "code",
   "execution_count": 10,
   "metadata": {},
   "outputs": [],
   "source": [
    "DATA_TEST_PATH = '' # TODO: download train data and supply path here \n",
    "_, tX_test, ids_test = load_csv_data(DATA_TEST_PATH)"
   ]
  },
  {
   "cell_type": "code",
   "execution_count": 31,
   "metadata": {},
   "outputs": [],
   "source": [
    "OUTPUT_PATH = '' # TODO: fill in desired name of output file for submission\n",
    "y_pred = predict_labels(weights, tX_test)\n",
    "create_csv_submission(ids_test, y_pred, OUTPUT_PATH)"
   ]
  },
  {
   "cell_type": "code",
   "execution_count": null,
   "metadata": {},
   "outputs": [],
   "source": []
  }
 ],
 "metadata": {
  "anaconda-cloud": {},
  "kernelspec": {
   "display_name": "Python 3",
   "language": "python",
   "name": "python3"
  },
  "language_info": {
   "codemirror_mode": {
    "name": "ipython",
    "version": 3
   },
   "file_extension": ".py",
   "mimetype": "text/x-python",
   "name": "python",
   "nbconvert_exporter": "python",
   "pygments_lexer": "ipython3",
   "version": "3.7.4"
  }
 },
 "nbformat": 4,
 "nbformat_minor": 4
}
