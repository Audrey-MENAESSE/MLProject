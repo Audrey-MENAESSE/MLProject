{
 "cells": [
  {
   "cell_type": "code",
   "execution_count": 1,
   "metadata": {},
   "outputs": [],
   "source": [
    "import numpy as np\n",
    "\n",
    "from implementations import *\n",
    "from proj1_helpers import *"
   ]
  },
  {
   "cell_type": "code",
   "execution_count": 2,
   "metadata": {},
   "outputs": [],
   "source": [
    "# Load data\n",
    "DATA_TRAIN_PATH = 'train.csv' \n",
    "y, tX, ids, headers = load_csv_data(DATA_TRAIN_PATH) # Modified the load_csv_data to also give headers"
   ]
  },
  {
   "cell_type": "code",
   "execution_count": 3,
   "metadata": {},
   "outputs": [],
   "source": [
    "def build_k_indices(y, k_fold, seed):\n",
    "    \"\"\"build k indices for k-fold.\"\"\"\n",
    "    num_row = y.shape[0]\n",
    "    interval = int(num_row / k_fold)\n",
    "    np.random.seed(seed)\n",
    "    indices = np.random.permutation(num_row)\n",
    "    k_indices = [indices[k * interval: (k + 1) * interval]\n",
    "                 for k in range(k_fold)]\n",
    "    return np.array(k_indices)"
   ]
  },
  {
   "cell_type": "code",
   "execution_count": 4,
   "metadata": {},
   "outputs": [],
   "source": [
    "def final_model(tX, headers, y, degree, tX_test, ids_test, headers_test):\n",
    "    # process features for to train the model\n",
    "    data, targets, ids = process_features_train(tX, headers, y, degree)\n",
    "    \n",
    "    # train base model \n",
    "    w_1 = logistic_regression_demo(targets[0], data[0], max_iters=10000, gamma=0.01)\n",
    "\n",
    "    # train jet=1 model using base model weights as initial weights\n",
    "    w_2 = logistic_regression_demo_winit(targets[2], data[2], w_1, max_iters=10000, gamma=0.01)\n",
    "\n",
    "    # train jet=2/3 model using base model weights as initial weights\n",
    "    w_3 = logistic_regression_demo_winit(targets[3], data[4], w_1, max_iters=10000, gamma=0.01)\n",
    "    \n",
    "    \n",
    "\n",
    "    # process test set\n",
    "    data, ids = process_features_test(tX_test, headers, ids_test, degree)\n",
    "\n",
    "    # create Predictions\n",
    "    weights = [w_1, w_2, w_3]\n",
    "    y_pred_final = create_predictions(weights, data, ids)\n",
    "    \n",
    "    return y_pred_final"
   ]
  },
  {
   "cell_type": "code",
   "execution_count": 5,
   "metadata": {},
   "outputs": [],
   "source": [
    "def cross_validation(y, x, k_indices, k, gamma, degree):\n",
    "    \"\"\"return the loss of ridge regression.\"\"\"\n",
    "    # ***************************************************\n",
    "    # get k'th subgroup in test, others in train\n",
    "    x_tr = x[k_indices[np.arange(len(k_indices))!=k].ravel()]\n",
    "    x_te = x[k_indices[k]]\n",
    "    \n",
    "    y_tr = y[k_indices[np.arange(len(k_indices))!=k].ravel()]\n",
    "    y_te = y[k_indices[k]]\n",
    "    \n",
    "    ids_tr = ids[k_indices[np.arange(len(k_indices))!=k].ravel()]\n",
    "    ids_te = ids[k_indices[k]]\n",
    "    \n",
    "    # ***************************************************\n",
    "    # form data with polynomial degree\n",
    "    print(\"Fold number: {f}, polynomial degree: {d}\".format(f=k+1, d=degree))\n",
    "\n",
    "    # ***************************************************\n",
    "    max_iters=100\n",
    "    # INSERT THE MODEL\n",
    "    y_pred_te = final_model(x_tr, headers, y_tr, degree, x_te, ids_te, headers)\n",
    "    # ***************************************************\n",
    "    # Calcualte the accuracy\n",
    "    acc = np.sum(y_pred_te.T==y_te)/len(y_te)\n",
    "    \n",
    "    return acc\n"
   ]
  },
  {
   "cell_type": "code",
   "execution_count": 6,
   "metadata": {},
   "outputs": [],
   "source": [
    "def cross_validation_demo(y, x, degrees):\n",
    "    seed = 1\n",
    "    k_fold = 4\n",
    "    \n",
    "    max_iter = 10000\n",
    "    threshold = 1e-8\n",
    "    gamma = 0.01\n",
    "    \n",
    "    # split data in k fold\n",
    "    k_indices = build_k_indices(y, k_fold, seed)\n",
    "    # define lists to store the loss of training data and test data\n",
    "    accuracy = np.zeros((degrees, k_fold))\n",
    "    \n",
    "    \n",
    "    for degree in np.arange(degrees)+1:\n",
    "        acc_d = []\n",
    "        for k in range(k_fold):\n",
    "            acc  = cross_validation(y, x, k_indices, k, gamma, degree)\n",
    "            acc_d.append(acc)\n",
    "        accuracy[degree-1] = np.array(acc_d)\n",
    "    \n",
    "    return accuracy"
   ]
  },
  {
   "cell_type": "code",
   "execution_count": 7,
   "metadata": {},
   "outputs": [
    {
     "name": "stdout",
     "output_type": "stream",
     "text": [
      "Fold number: 1, polynomial degree: 1\n",
      "Current iteration=9999, training loss=[78308.52783414]\n",
      "Proportion test error:  [0.28384]\n",
      "Current iteration=9999, training loss=[25497.1939226]\n",
      "Proportion test error:  [0.31835786]\n",
      "Current iteration=9999, training loss=[23254.18676019]\n",
      "Proportion test error:  [0.28615977]\n",
      "Fold number: 2, polynomial degree: 1\n",
      "Current iteration=9999, training loss=[77755.43566982]\n",
      "Proportion test error:  [0.27941333]\n",
      "Current iteration=9999, training loss=[25783.45759898]\n",
      "Proportion test error:  [0.32486264]\n",
      "Current iteration=9999, training loss=[24145.39143166]\n",
      "Proportion test error:  [0.28533358]\n",
      "Fold number: 3, polynomial degree: 1\n",
      "Current iteration=9999, training loss=[77940.25242795]\n",
      "Proportion test error:  [0.28784]\n",
      "Current iteration=9999, training loss=[25483.62175084]\n",
      "Proportion test error:  [0.31592061]\n",
      "Current iteration=9999, training loss=[23367.0346446]\n",
      "Proportion test error:  [0.28758411]\n",
      "Fold number: 4, polynomial degree: 1\n",
      "Current iteration=9999, training loss=[79439.47017083]\n",
      "Proportion test error:  [0.28765333]\n",
      "Current iteration=9999, training loss=[25706.39060355]\n",
      "Proportion test error:  [0.32438479]\n",
      "Current iteration=9999, training loss=[23650.39432841]\n",
      "Proportion test error:  [0.29046176]\n",
      "Fold number: 1, polynomial degree: 2\n",
      "Current iteration=9999, training loss=[74939.8886893]\n",
      "Proportion test error:  [0.26746667]\n",
      "Current iteration=9999, training loss=[23006.71861763]\n",
      "Proportion test error:  [0.26215681]\n",
      "Current iteration=9999, training loss=[21702.25708078]\n",
      "Proportion test error:  [0.26084564]\n",
      "Fold number: 2, polynomial degree: 2\n",
      "Current iteration=9999, training loss=[74022.17957544]\n",
      "Proportion test error:  [0.26304]\n",
      "Current iteration=9999, training loss=[23599.81696875]\n",
      "Proportion test error:  [0.27944712]\n",
      "Current iteration=9999, training loss=[22015.09108418]\n",
      "Proportion test error:  [0.24866752]\n",
      "Fold number: 3, polynomial degree: 2\n",
      "Current iteration=9999, training loss=[73606.02093395]\n",
      "Proportion test error:  [0.26453333]\n",
      "Current iteration=9999, training loss=[23813.20160046]\n",
      "Proportion test error:  [0.26522897]\n",
      "Current iteration=9999, training loss=[22023.86448821]\n",
      "Proportion test error:  [0.26380312]\n",
      "Fold number: 4, polynomial degree: 2\n",
      "Current iteration=9999, training loss=[75138.81200119]\n",
      "Proportion test error:  [0.26272]\n",
      "Current iteration=9999, training loss=[23598.98726798]\n",
      "Proportion test error:  [0.27456548]\n",
      "Current iteration=9999, training loss=[21578.27595934]\n",
      "Proportion test error:  [0.25585238]\n",
      "Fold number: 1, polynomial degree: 3\n",
      "Current iteration=9999, training loss=[75900.43393325]\n",
      "Proportion test error:  [0.266]\n",
      "Current iteration=9999, training loss=[23415.67117636]\n",
      "Proportion test error:  [0.25466908]\n",
      "Current iteration=9999, training loss=[22330.6658213]\n",
      "Proportion test error:  [0.25873613]\n",
      "Fold number: 2, polynomial degree: 3\n",
      "Current iteration=9999, training loss=[75108.33183693]\n",
      "Proportion test error:  [0.25917333]\n",
      "Current iteration=9999, training loss=[23455.10566619]\n",
      "Proportion test error:  [0.27669986]\n",
      "Current iteration=9999, training loss=[22396.36054512]\n",
      "Proportion test error:  [0.25004595]\n",
      "Fold number: 3, polynomial degree: 3\n",
      "Current iteration=9999, training loss=[75583.23011096]\n",
      "Proportion test error:  [0.26093333]\n",
      "Current iteration=9999, training loss=[24082.11508456]\n",
      "Proportion test error:  [0.26136266]\n",
      "Current iteration=9999, training loss=[23107.22083474]\n",
      "Proportion test error:  [0.26702922]\n",
      "Fold number: 4, polynomial degree: 3\n",
      "Current iteration=9999, training loss=[75910.16508645]\n",
      "Proportion test error:  [0.25498667]\n",
      "Current iteration=9999, training loss=[23389.75688891]\n",
      "Proportion test error:  [0.26957494]\n",
      "Current iteration=9999, training loss=[22426.02785613]\n",
      "Proportion test error:  [0.25245571]\n",
      "Fold number: 1, polynomial degree: 4\n",
      "Current iteration=9999, training loss=[76912.89940314]\n",
      "Proportion test error:  [0.26205333]\n",
      "Current iteration=9999, training loss=[25526.94434004]\n",
      "Proportion test error:  [0.25286169]\n",
      "Current iteration=9999, training loss=[22176.68360727]\n",
      "Proportion test error:  [0.25598459]\n",
      "Fold number: 2, polynomial degree: 4\n",
      "Current iteration=9999, training loss=[74784.1521567]\n",
      "Proportion test error:  [0.25901333]\n",
      "Current iteration=9999, training loss=[23492.516966]\n",
      "Proportion test error:  [0.27180632]\n",
      "Current iteration=9999, training loss=[23263.93528341]\n",
      "Proportion test error:  [0.24986216]\n",
      "Fold number: 3, polynomial degree: 4\n",
      "Current iteration=9999, training loss=[76405.43918372]\n",
      "Proportion test error:  [0.26261333]\n",
      "Current iteration=9999, training loss=[23131.33471012]\n",
      "Proportion test error:  [0.25088066]\n",
      "Current iteration=9999, training loss=[23654.59373762]\n",
      "Proportion test error:  [0.26813531]\n",
      "Fold number: 4, polynomial degree: 4\n",
      "Current iteration=9999, training loss=[76684.50799063]\n",
      "Proportion test error:  [0.25429333]\n",
      "Current iteration=9999, training loss=[23512.81415072]\n",
      "Proportion test error:  [0.26923077]\n",
      "Current iteration=9999, training loss=[23948.19122997]\n",
      "Proportion test error:  [0.25888185]\n",
      "Fold number: 1, polynomial degree: 5\n",
      "Current iteration=9999, training loss=[77738.3499604]\n",
      "Proportion test error:  [0.2604]\n",
      "Current iteration=9999, training loss=[29709.33424341]\n",
      "Proportion test error:  [0.25475514]\n",
      "Current iteration=9999, training loss=[22936.78335148]\n",
      "Proportion test error:  [0.26277171]\n",
      "Fold number: 2, polynomial degree: 5\n",
      "Current iteration=9999, training loss=[75433.11329892]\n",
      "Proportion test error:  [0.25621333]\n",
      "Current iteration=9999, training loss=[23495.78403602]\n",
      "Proportion test error:  [0.26905907]\n",
      "Current iteration=9999, training loss=[24879.50349851]\n",
      "Proportion test error:  [0.25105679]\n",
      "Fold number: 3, polynomial degree: 5\n",
      "Current iteration=9999, training loss=[77425.80853881]\n",
      "Proportion test error:  [0.26072]\n",
      "Current iteration=9999, training loss=[23588.55146508]\n",
      "Proportion test error:  [0.25019332]\n",
      "Current iteration=9999, training loss=[24409.83489909]\n",
      "Proportion test error:  [0.27219099]\n",
      "Fold number: 4, polynomial degree: 5\n",
      "Current iteration=9999, training loss=[77441.60772742]\n",
      "Proportion test error:  [0.25477333]\n",
      "Current iteration=9999, training loss=[23683.87591839]\n",
      "Proportion test error:  [0.27043538]\n",
      "Current iteration=9999, training loss=[26165.66709253]\n",
      "Proportion test error:  [0.25484256]\n"
     ]
    }
   ],
   "source": [
    "degrees = 5\n",
    "accuracy = cross_validation_demo(y, tX, degrees)"
   ]
  },
  {
   "cell_type": "code",
   "execution_count": 8,
   "metadata": {},
   "outputs": [
    {
     "data": {
      "text/plain": [
       "array([[0.601104, 0.597664, 0.601792, 0.609648],\n",
       "       [0.595088, 0.592384, 0.590128, 0.595392],\n",
       "       [0.591184, 0.59016 , 0.58656 , 0.592848],\n",
       "       [0.589744, 0.588432, 0.58704 , 0.591568],\n",
       "       [0.587632, 0.586944, 0.582512, 0.587696]])"
      ]
     },
     "execution_count": 8,
     "metadata": {},
     "output_type": "execute_result"
    }
   ],
   "source": [
    "accuracy"
   ]
  },
  {
   "cell_type": "code",
   "execution_count": null,
   "metadata": {},
   "outputs": [],
   "source": []
  },
  {
   "cell_type": "code",
   "execution_count": null,
   "metadata": {},
   "outputs": [],
   "source": []
  },
  {
   "cell_type": "code",
   "execution_count": null,
   "metadata": {},
   "outputs": [],
   "source": []
  },
  {
   "cell_type": "code",
   "execution_count": null,
   "metadata": {},
   "outputs": [],
   "source": []
  },
  {
   "cell_type": "code",
   "execution_count": 3,
   "metadata": {},
   "outputs": [],
   "source": [
    "data, targets, ids = process_features_train(tX, headers, y, 3)"
   ]
  },
  {
   "cell_type": "code",
   "execution_count": 4,
   "metadata": {},
   "outputs": [
    {
     "data": {
      "text/plain": [
       "(99913,)"
      ]
     },
     "execution_count": 4,
     "metadata": {},
     "output_type": "execute_result"
    }
   ],
   "source": [
    "targets[1].shape"
   ]
  },
  {
   "cell_type": "code",
   "execution_count": 5,
   "metadata": {},
   "outputs": [
    {
     "data": {
      "text/plain": [
       "(77544, 55)"
      ]
     },
     "execution_count": 5,
     "metadata": {},
     "output_type": "execute_result"
    }
   ],
   "source": [
    "data[2].shape"
   ]
  },
  {
   "cell_type": "code",
   "execution_count": 6,
   "metadata": {},
   "outputs": [
    {
     "name": "stdout",
     "output_type": "stream",
     "text": [
      "Current iteration=0, training loss=[42714.73023504]\n",
      "Current iteration=99, training loss=[38571.33097913]\n",
      "(15509,)\n",
      "(15509, 1)\n",
      "Proportion test error:  [0.33528919]\n"
     ]
    },
    {
     "data": {
      "text/plain": [
       "array([[-1.23516334e-01],\n",
       "       [-3.44617687e-02],\n",
       "       [-8.69974063e-02],\n",
       "       [-6.81018520e-02],\n",
       "       [-1.44760662e-01],\n",
       "       [-1.29050699e-01],\n",
       "       [-7.83263475e-02],\n",
       "       [-5.32919207e-02],\n",
       "       [-8.51555363e-02],\n",
       "       [-5.48536118e-02],\n",
       "       [ 3.12272461e-02],\n",
       "       [ 3.16678886e-02],\n",
       "       [ 2.15440850e-02],\n",
       "       [ 7.35803185e-02],\n",
       "       [ 4.61578998e-02],\n",
       "       [ 1.51506142e-02],\n",
       "       [-5.27320226e-02],\n",
       "       [-2.37449040e-02],\n",
       "       [-4.61177568e-03],\n",
       "       [ 2.65442099e-02],\n",
       "       [ 1.65072654e-02],\n",
       "       [ 1.16433142e-02],\n",
       "       [-4.52733902e-02],\n",
       "       [-1.90874624e-02],\n",
       "       [-2.74465241e-03],\n",
       "       [ 6.44972287e-02],\n",
       "       [ 6.08726149e-02],\n",
       "       [ 6.55895915e-02],\n",
       "       [ 3.74990347e-02],\n",
       "       [ 6.58310295e-03],\n",
       "       [-3.58567387e-03],\n",
       "       [-6.92765470e-05],\n",
       "       [-3.76602840e-02],\n",
       "       [-5.70460444e-03],\n",
       "       [-3.79688274e-02],\n",
       "       [-3.58609962e-02],\n",
       "       [-2.00335014e-02],\n",
       "       [ 7.54517083e-03],\n",
       "       [-1.47470487e-02],\n",
       "       [-3.99972127e-03],\n",
       "       [-2.43967544e-02],\n",
       "       [-1.59215525e-02],\n",
       "       [-1.18466104e-02],\n",
       "       [ 2.86587605e-02],\n",
       "       [ 1.43171382e-02],\n",
       "       [ 6.38068637e-03],\n",
       "       [ 3.88130908e-02],\n",
       "       [ 2.71657275e-02],\n",
       "       [ 1.69143153e-02],\n",
       "       [ 3.88131659e-02],\n",
       "       [ 2.71658439e-02],\n",
       "       [ 1.69144203e-02],\n",
       "       [ 5.82757816e-02],\n",
       "       [ 4.26124984e-02],\n",
       "       [ 4.11140892e-02]])"
      ]
     },
     "execution_count": 6,
     "metadata": {},
     "output_type": "execute_result"
    }
   ],
   "source": [
    "\n",
    "w_init = np.zeros((20, 1))\n",
    "logistic_regression_demo_winit(targets[2], data[2], w_init, 100, 0.01)"
   ]
  },
  {
   "cell_type": "code",
   "execution_count": null,
   "metadata": {},
   "outputs": [],
   "source": [
    "data, targets, ids = process_features_train(tX, headers, y, degree)\n",
    "    \n",
    "    # train base model \n",
    "    w_1 = logistic_regression_demo(targets[0], data[0], max_iters=500, gamma=0.01)\n",
    "\n",
    "    # train jet=1 model using base model weights as initial weights\n",
    "    w_2 = logistic_regression_demo_winit(targets[1], data[2], w_1, max_iters=500, gamma=0.01)"
   ]
  },
  {
   "cell_type": "code",
   "execution_count": null,
   "metadata": {},
   "outputs": [],
   "source": []
  },
  {
   "cell_type": "code",
   "execution_count": null,
   "metadata": {},
   "outputs": [],
   "source": []
  },
  {
   "cell_type": "code",
   "execution_count": null,
   "metadata": {},
   "outputs": [],
   "source": []
  },
  {
   "cell_type": "code",
   "execution_count": null,
   "metadata": {},
   "outputs": [],
   "source": []
  }
 ],
 "metadata": {
  "kernelspec": {
   "display_name": "Python 3",
   "language": "python",
   "name": "python3"
  },
  "language_info": {
   "codemirror_mode": {
    "name": "ipython",
    "version": 3
   },
   "file_extension": ".py",
   "mimetype": "text/x-python",
   "name": "python",
   "nbconvert_exporter": "python",
   "pygments_lexer": "ipython3",
   "version": "3.7.4"
  }
 },
 "nbformat": 4,
 "nbformat_minor": 4
}
