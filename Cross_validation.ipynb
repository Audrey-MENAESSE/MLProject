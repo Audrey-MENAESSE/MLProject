{
 "cells": [
  {
   "cell_type": "code",
   "execution_count": 1,
   "metadata": {},
   "outputs": [],
   "source": [
    "import numpy as np\n",
    "\n",
    "from implementations import *\n",
    "from proj1_helpers import *"
   ]
  },
  {
   "cell_type": "code",
   "execution_count": 2,
   "metadata": {},
   "outputs": [],
   "source": [
    "# Load data\n",
    "DATA_TRAIN_PATH = 'train.csv' \n",
    "y, tX, ids, headers = load_csv_data(DATA_TRAIN_PATH) # Modified the load_csv_data to also give headers"
   ]
  },
  {
   "cell_type": "code",
   "execution_count": 3,
   "metadata": {},
   "outputs": [],
   "source": [
    "def build_k_indices(y, k_fold, seed):\n",
    "    \"\"\"build k indices for k-fold.\"\"\"\n",
    "    num_row = y.shape[0]\n",
    "    interval = int(num_row / k_fold)\n",
    "    np.random.seed(seed)\n",
    "    indices = np.random.permutation(num_row)\n",
    "    k_indices = [indices[k * interval: (k + 1) * interval]\n",
    "                 for k in range(k_fold)]\n",
    "    return np.array(k_indices)"
   ]
  },
  {
   "cell_type": "code",
   "execution_count": 4,
   "metadata": {},
   "outputs": [],
   "source": [
    "def cv_model(tX, headers, y, degree, tX_test, y_test, headers_test):\n",
    "    # process features for to train the model\n",
    "    data, targets, ids = process_features_train(tX, headers, y, degree)\n",
    "    \n",
    "    # train base model \n",
    "    w_1 = logistic_regression_demo(targets[0], data[0], max_iters=10000, gamma=0.01)\n",
    "\n",
    "    # train jet=1 model using base model weights as initial weights\n",
    "    w_2 = logistic_regression_demo_winit(targets[2], data[2], w_1, max_iters=10000, gamma=0.01)\n",
    "\n",
    "    # train jet=2/3 model using base model weights as initial weights\n",
    "    w_3 = logistic_regression_demo_winit(targets[3], data[4], w_1, max_iters=10000, gamma=0.01)\n",
    "    \n",
    "    \n",
    "\n",
    "    # process test set\n",
    "    data, targets, ids = process_features_train(tX_test, headers, y_test, degree)\n",
    "\n",
    "    # create Predictions\n",
    "    weights = [w_1, w_2, w_3]\n",
    "    #y_pred_final = create_predictions(weights, data, ids)\n",
    "    \n",
    "    # calcualte the loss, but first calculate the predictions for the loss (0 1 type)\n",
    "    pred_loss = create_predictions_loss(weights, data, ids)\n",
    "    \n",
    "    loss = calculate_loss_lr_model(targets[0], pred_loss)\n",
    "    \n",
    "    # map the predictions into -1 and 1\n",
    "    y_pred_final = pred_loss.copy()\n",
    "    y_pred_final[np.where(y_pred_final <= 0.5)] = -1\n",
    "    y_pred_final[np.where(y_pred_final > 0.5)] = 1\n",
    "    \n",
    "    acc = np.sum(y_pred_final.T==y_test)/len(y_test)\n",
    "    \n",
    "    \n",
    "    return loss, acc"
   ]
  },
  {
   "cell_type": "code",
   "execution_count": 5,
   "metadata": {},
   "outputs": [],
   "source": [
    "def cross_validation(y, x, ids, degrees):\n",
    "    seed = 1\n",
    "    k_fold = 4\n",
    "    \n",
    "    \n",
    "    # split data in k fold\n",
    "    k_indices = build_k_indices(y, k_fold, seed)\n",
    "    # define lists to store the loss of training data and test data\n",
    "    loss = np.zeros((degrees, k_fold))\n",
    "    accuracy = np.zeros((degrees, k_fold))\n",
    "    \n",
    "    \n",
    "    for degree in np.arange(degrees)+1:\n",
    "        loss_d = []\n",
    "        acc_d = []\n",
    "        for k in range(k_fold):\n",
    "            #****************************************************\n",
    "            # Form train and test sets\n",
    "            x_tr = x[k_indices[np.arange(len(k_indices))!=k].ravel()]\n",
    "            x_te = x[k_indices[k]]\n",
    "\n",
    "            y_tr = y[k_indices[np.arange(len(k_indices))!=k].ravel()]\n",
    "            y_te = y[k_indices[k]]\n",
    "\n",
    "            ids_tr = ids[k_indices[np.arange(len(k_indices))!=k].ravel()]\n",
    "            ids_te = ids[k_indices[k]]\n",
    "\n",
    "            print(\"Fold number: {f}, polynomial degree: {d}\".format(f=k+1, d=degree))\n",
    "\n",
    "            #****************************************************\n",
    "\n",
    "            lo, acc = cv_model(x_tr, headers, y_tr, degree, x_te, y_te, headers)\n",
    "            \n",
    "            loss_d.append(lo[0])\n",
    "            acc_d.append(acc)\n",
    "        loss[degree-1] = np.array(loss_d)\n",
    "        accuracy[degree-1] = np.array(acc_d)\n",
    "    \n",
    "    return loss, accuracy"
   ]
  },
  {
   "cell_type": "code",
   "execution_count": 6,
   "metadata": {},
   "outputs": [
    {
     "name": "stdout",
     "output_type": "stream",
     "text": [
      "Fold number: 1, polynomial degree: 1\n",
      "Proportion test error:  [0.26202667]\n",
      "Proportion test error:  [0.30562011]\n",
      "Proportion test error:  [0.26332202]\n",
      "Fold number: 2, polynomial degree: 1\n",
      "Proportion test error:  [0.26034667]\n",
      "Proportion test error:  [0.29627404]\n",
      "Proportion test error:  [0.27844146]\n",
      "Fold number: 3, polynomial degree: 1\n",
      "Proportion test error:  [0.26413333]\n",
      "Proportion test error:  [0.29993986]\n",
      "Proportion test error:  [0.27043967]\n",
      "Fold number: 4, polynomial degree: 1\n",
      "Proportion test error:  [0.27648]\n",
      "Proportion test error:  [0.29297883]\n",
      "Proportion test error:  [0.26879647]\n",
      "Fold number: 1, polynomial degree: 2\n",
      "Proportion test error:  [0.246]\n",
      "Proportion test error:  [0.24873053]\n",
      "Proportion test error:  [0.23635697]\n",
      "Fold number: 2, polynomial degree: 2\n",
      "Proportion test error:  [0.24432]\n",
      "Proportion test error:  [0.25970124]\n",
      "Proportion test error:  [0.24205109]\n",
      "Fold number: 3, polynomial degree: 2\n",
      "Proportion test error:  [0.24485333]\n",
      "Proportion test error:  [0.25302861]\n",
      "Proportion test error:  [0.24380127]\n",
      "Fold number: 4, polynomial degree: 2\n",
      "Proportion test error:  [0.24861333]\n",
      "Proportion test error:  [0.25365686]\n",
      "Proportion test error:  [0.23859359]\n",
      "Fold number: 1, polynomial degree: 3\n",
      "Proportion test error:  [0.24474667]\n",
      "Proportion test error:  [0.24649281]\n",
      "Proportion test error:  [0.23076218]\n",
      "Fold number: 2, polynomial degree: 3\n",
      "Proportion test error:  [0.24373333]\n",
      "Proportion test error:  [0.25755495]\n",
      "Proportion test error:  [0.24251057]\n",
      "Fold number: 3, polynomial degree: 3\n",
      "Proportion test error:  [0.24405333]\n",
      "Proportion test error:  [0.25053699]\n",
      "Proportion test error:  [0.2440778]\n",
      "Fold number: 4, polynomial degree: 3\n",
      "Proportion test error:  [0.24714667]\n",
      "Proportion test error:  [0.24995698]\n",
      "Proportion test error:  [0.23519692]\n",
      "Fold number: 1, polynomial degree: 4\n",
      "Proportion test error:  [0.24162667]\n",
      "Proportion test error:  [0.24632068]\n",
      "Proportion test error:  [0.22920297]\n",
      "Fold number: 2, polynomial degree: 4\n",
      "Proportion test error:  [0.24362667]\n",
      "Proportion test error:  [0.25240385]\n",
      "Proportion test error:  [0.24600257]\n",
      "Fold number: 3, polynomial degree: 4\n",
      "Proportion test error:  [0.2448]\n",
      "Proportion test error:  [0.24856087]\n",
      "Proportion test error:  [0.24748825]\n",
      "Fold number: 4, polynomial degree: 4\n",
      "Proportion test error:  [0.24669333]\n",
      "Proportion test error:  [0.24771984]\n",
      "Proportion test error:  [0.23923621]\n",
      "Fold number: 1, polynomial degree: 5\n",
      "Proportion test error:  [0.24312]\n",
      "Proportion test error:  [0.25062398]\n",
      "Proportion test error:  [0.23745758]\n",
      "Fold number: 2, polynomial degree: 5\n",
      "Proportion test error:  [0.24381333]\n",
      "Proportion test error:  [0.25206044]\n",
      "Proportion test error:  [0.25464069]\n",
      "Fold number: 3, polynomial degree: 5\n",
      "Proportion test error:  [0.24448]\n",
      "Proportion test error:  [0.25122433]\n",
      "Proportion test error:  [0.24997696]\n",
      "Fold number: 4, polynomial degree: 5\n",
      "Proportion test error:  [0.24749333]\n",
      "Proportion test error:  [0.24840819]\n",
      "Proportion test error:  [0.23997062]\n"
     ]
    }
   ],
   "source": [
    "degrees = 5\n",
    "loss, accuracy = cross_validation(y, tX, ids, degrees)"
   ]
  },
  {
   "cell_type": "code",
   "execution_count": 24,
   "metadata": {},
   "outputs": [
    {
     "data": {
      "image/png": "[encoded data removed]",
      "text/plain": [
       "<Figure size 720x360 with 1 Axes>"
      ]
     },
     "metadata": {
      "needs_background": "light"
     },
     "output_type": "display_data"
    }
   ],
   "source": [
    "%matplotlib inline\n",
    "import matplotlib.pyplot as plt\n",
    "\n",
    "fig = plt.figure(figsize = (10, 5))\n",
    "ax = plt.boxplot(loss.T)\n",
    "plt.xlabel(\"Degree\")\n",
    "plt.ylabel(\"Loss\")\n",
    "plt.title(\"Cross-validation loss\", fontsize=15)\n",
    "plt.savefig(\"cross_validation_loss\");"
   ]
  },
  {
   "cell_type": "code",
   "execution_count": 19,
   "metadata": {},
   "outputs": [],
   "source": [
    "np.savetxt(\"cv_accuracy.csv\", accuracy, delimiter=\",\")\n",
    "np.savetxt(\"cv_loss.csv\", loss, delimiter=\",\")"
   ]
  },
  {
   "cell_type": "code",
   "execution_count": null,
   "metadata": {},
   "outputs": [],
   "source": []
  }
 ],
 "metadata": {
  "kernelspec": {
   "display_name": "Python 3",
   "language": "python",
   "name": "python3"
  },
  "language_info": {
   "codemirror_mode": {
    "name": "ipython",
    "version": 3
   },
   "file_extension": ".py",
   "mimetype": "text/x-python",
   "name": "python",
   "nbconvert_exporter": "python",
   "pygments_lexer": "ipython3",
   "version": "3.7.4"
  }
 },
 "nbformat": 4,
 "nbformat_minor": 4
}
