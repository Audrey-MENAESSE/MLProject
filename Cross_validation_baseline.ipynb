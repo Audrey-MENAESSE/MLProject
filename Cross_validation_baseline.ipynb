{
 "cells": [
  {
   "cell_type": "code",
   "execution_count": 65,
   "metadata": {},
   "outputs": [],
   "source": [
    "import numpy as np\n",
    "\n",
    "from implementations import *\n",
    "from proj1_helpers import *"
   ]
  },
  {
   "cell_type": "code",
   "execution_count": 66,
   "metadata": {},
   "outputs": [],
   "source": [
    "# Load data\n",
    "DATA_TRAIN_PATH = 'train.csv' \n",
    "y, tX, ids, headers = load_csv_data(DATA_TRAIN_PATH) # Modified the load_csv_data to also give headers"
   ]
  },
  {
   "cell_type": "code",
   "execution_count": 67,
   "metadata": {},
   "outputs": [],
   "source": [
    "def build_k_indices(y, k_fold, seed):\n",
    "    \"\"\"build k indices for k-fold.\"\"\"\n",
    "    num_row = y.shape[0]\n",
    "    interval = int(num_row / k_fold)\n",
    "    np.random.seed(seed)\n",
    "    indices = np.random.permutation(num_row)\n",
    "    k_indices = [indices[k * interval: (k + 1) * interval]\n",
    "                 for k in range(k_fold)]\n",
    "    return np.array(k_indices)"
   ]
  },
  {
   "cell_type": "code",
   "execution_count": 68,
   "metadata": {},
   "outputs": [],
   "source": [
    "def cv_model_baseline(tX, headers, y, degree, tX_test, y_test, headers_test):\n",
    "    # process features for to train the model\n",
    "    data_tr, targets_tr, ids_tr = process_features_train(tX, headers, y, degree)\n",
    "    w_init = np.zeros((data_tr[0].shape[1], 1))\n",
    "    \n",
    "    # train base model\n",
    "    \n",
    "    w,_ = logistic_regression_mod(targets_tr[0], data_tr[0], w_init, max_iters=100, gamma=0.01)\n",
    "\n",
    "    # calculate the loss\n",
    "    data_te, targets_te, ids_te = process_features_train(tX_test, headers_test, y_test, degree)\n",
    "    loss = calculate_loss_lr(targets_te[0], data_te[0], w)\n",
    "    \n",
    "    \n",
    "    return loss[0]"
   ]
  },
  {
   "cell_type": "code",
   "execution_count": 69,
   "metadata": {},
   "outputs": [],
   "source": [
    "def cross_validation_baseline(y, x, ids, degrees):\n",
    "    seed = 1\n",
    "    k_fold = 4\n",
    "    \n",
    "    \n",
    "    # split data in k fold\n",
    "    k_indices = build_k_indices(y, k_fold, seed)\n",
    "    # define lists to store the loss of training data and test data\n",
    "    loss = np.zeros((degrees, k_fold))\n",
    "    \n",
    "    \n",
    "    for degree in np.arange(degrees)+1:\n",
    "        loss_d = []\n",
    "        for k in range(k_fold):\n",
    "            #****************************************************\n",
    "            # Form train and test sets\n",
    "            x_tr = x[k_indices[np.arange(len(k_indices))!=k].ravel()]\n",
    "            x_te = x[k_indices[k]]\n",
    "\n",
    "            y_tr = y[k_indices[np.arange(len(k_indices))!=k].ravel()]\n",
    "            y_te = y[k_indices[k]]\n",
    "\n",
    "            ids_tr = ids[k_indices[np.arange(len(k_indices))!=k].ravel()]\n",
    "            ids_te = ids[k_indices[k]]\n",
    "\n",
    "            print(\"Fold number: {f}, polynomial degree: {d}\".format(f=k+1, d=degree))\n",
    "\n",
    "            #****************************************************\n",
    "\n",
    "            lo = cv_model_baseline(x_tr, headers, y_tr, degree, x_te, y_te, headers)\n",
    "            \n",
    "            loss_d.append(lo)\n",
    "            \n",
    "        loss[degree-1] = np.array(loss_d)\n",
    "        \n",
    "    return loss/(len(y)/degrees)"
   ]
  },
  {
   "cell_type": "code",
   "execution_count": 70,
   "metadata": {},
   "outputs": [
    {
     "name": "stdout",
     "output_type": "stream",
     "text": [
      "Fold number: 1, polynomial degree: 1\n",
      "Fold number: 2, polynomial degree: 1\n",
      "Fold number: 3, polynomial degree: 1\n",
      "Fold number: 4, polynomial degree: 1\n",
      "Fold number: 1, polynomial degree: 2\n",
      "Fold number: 2, polynomial degree: 2\n",
      "Fold number: 3, polynomial degree: 2\n",
      "Fold number: 4, polynomial degree: 2\n",
      "Fold number: 1, polynomial degree: 3\n",
      "Fold number: 2, polynomial degree: 3\n",
      "Fold number: 3, polynomial degree: 3\n",
      "Fold number: 4, polynomial degree: 3\n",
      "Fold number: 1, polynomial degree: 4\n",
      "Fold number: 2, polynomial degree: 4\n",
      "Fold number: 3, polynomial degree: 4\n",
      "Fold number: 4, polynomial degree: 4\n",
      "Fold number: 1, polynomial degree: 5\n",
      "Fold number: 2, polynomial degree: 5\n",
      "Fold number: 3, polynomial degree: 5\n",
      "Fold number: 4, polynomial degree: 5\n"
     ]
    }
   ],
   "source": [
    "degrees = 5\n",
    "loss = cross_validation_baseline(y, tX, ids, degrees)"
   ]
  },
  {
   "cell_type": "code",
   "execution_count": 81,
   "metadata": {},
   "outputs": [
    {
     "data": {
      "image/png": "[encoded data removed]",
      "text/plain": [
       "<Figure size 720x360 with 1 Axes>"
      ]
     },
     "metadata": {
      "needs_background": "light"
     },
     "output_type": "display_data"
    }
   ],
   "source": [
    "%matplotlib inline\n",
    "import matplotlib.pyplot as plt\n",
    "\n",
    "fig = plt.figure(figsize = (10, 5))\n",
    "ax = plt.boxplot(loss.T)\n",
    "plt.xlabel(\"Degree\")\n",
    "plt.ylabel(\"Loss\")\n",
    "plt.title(\"Cross-validation baseline loss\", fontsize=15)\n",
    "plt.savefig(\"cross_validation_bl_loss\");"
   ]
  },
  {
   "cell_type": "code",
   "execution_count": 80,
   "metadata": {},
   "outputs": [],
   "source": [
    "np.savetxt(\"cv_bl_loss.csv\", loss, delimiter=\",\")"
   ]
  },
  {
   "cell_type": "code",
   "execution_count": null,
   "metadata": {},
   "outputs": [],
   "source": []
  }
 ],
 "metadata": {
  "kernelspec": {
   "display_name": "Python 3",
   "language": "python",
   "name": "python3"
  },
  "language_info": {
   "codemirror_mode": {
    "name": "ipython",
    "version": 3
   },
   "file_extension": ".py",
   "mimetype": "text/x-python",
   "name": "python",
   "nbconvert_exporter": "python",
   "pygments_lexer": "ipython3",
   "version": "3.7.4"
  }
 },
 "nbformat": 4,
 "nbformat_minor": 4
}
